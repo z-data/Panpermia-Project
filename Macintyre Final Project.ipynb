{
 "cells": [
  {
   "cell_type": "code",
   "execution_count": 189,
   "metadata": {},
   "outputs": [],
   "source": [
    "import numpy as np\n",
    "import pandas as pd\n",
    "import matplotlib.pyplot as plt\n",
    "import math\n",
    "from random import sample \n",
    "import random"
   ]
  },
  {
   "cell_type": "code",
   "execution_count": 31,
   "metadata": {},
   "outputs": [],
   "source": [
    "#poisson model using the time interval as 5bil years \n",
    "def poisson(X, tau, t = 5000000000):\n",
    "    \n",
    "    prob = math.exp(-t/tau) * ((t/tau)**X)/math.factorial(X)\n",
    "    \n",
    "    return prob"
   ]
  },
  {
   "cell_type": "markdown",
   "metadata": {},
   "source": [
    "Analytic Solution\n",
    "\n",
    "1 - $e^{-t/tau}$ "
   ]
  },
  {
   "cell_type": "markdown",
   "metadata": {},
   "source": [
    "# 2. Monte Carlo from tau = 5bil to tau = 500 quadrillion with 1 planet"
   ]
  },
  {
   "cell_type": "code",
   "execution_count": 300,
   "metadata": {},
   "outputs": [
    {
     "data": {
      "text/plain": [
       "1.0"
      ]
     },
     "execution_count": 300,
     "metadata": {},
     "output_type": "execute_result"
    }
   ],
   "source": [
    "#5bil planet years to 50 mil mean to pick the lock\n",
    "prob = 1 - math.exp((-5000000000/50000)/50000000)\n",
    "\n",
    "N = 50000\n",
    "count = 0\n",
    "percent = []\n",
    "\n",
    "for i in range(1,10001):\n",
    "    exp = np.random.binomial(1,p = prob, size = N)\n",
    "    total = sum(exp)\n",
    "    percent.append(total/N)\n",
    "    if total > 0:\n",
    "        count += 1\n",
    "\n",
    "count/10000"
   ]
  },
  {
   "cell_type": "code",
   "execution_count": 301,
   "metadata": {},
   "outputs": [
    {
     "name": "stdout",
     "output_type": "stream",
     "text": [
      "percent of time where life started:  0.0020027099999999996\n",
      "analytic percent:  0.001998001332666921\n"
     ]
    }
   ],
   "source": [
    "print(\"percent of time where life started: \" , np.mean(percent))\n",
    "print(\"analytic percent: \", prob)"
   ]
  },
  {
   "cell_type": "code",
   "execution_count": 302,
   "metadata": {},
   "outputs": [
    {
     "data": {
      "text/plain": [
       "1.0"
      ]
     },
     "execution_count": 302,
     "metadata": {},
     "output_type": "execute_result"
    }
   ],
   "source": [
    "#5bil planet years to 500 mil mean to pick the lock\n",
    "prob = 1 - math.exp((-5000000000/50000)/500000000)\n",
    "\n",
    "N = 50000\n",
    "count = 0\n",
    "percent = []\n",
    "\n",
    "for i in range(1,10001):\n",
    "    exp = np.random.binomial(1,p = prob, size = N)\n",
    "    total = sum(exp)\n",
    "    percent.append(total/N)\n",
    "    if total > 0:\n",
    "        count += 1\n",
    "\n",
    "count/10000"
   ]
  },
  {
   "cell_type": "code",
   "execution_count": 303,
   "metadata": {},
   "outputs": [
    {
     "name": "stdout",
     "output_type": "stream",
     "text": [
      "percent of time where life started:  0.000199598\n",
      "analytic percent:  0.00019998000133325533\n"
     ]
    }
   ],
   "source": [
    "print(\"percent of time where life started: \" , np.mean(percent))\n",
    "print(\"analytic percent: \", prob)"
   ]
  },
  {
   "cell_type": "code",
   "execution_count": 296,
   "metadata": {},
   "outputs": [
    {
     "data": {
      "text/plain": [
       "0.6306"
      ]
     },
     "execution_count": 296,
     "metadata": {},
     "output_type": "execute_result"
    }
   ],
   "source": [
    "#5bil planet years to 5bil mean to pick the lock\n",
    "prob = 1 - math.exp((-5000000000/50000)/5000000000)\n",
    "\n",
    "N = 50000\n",
    "count = 0\n",
    "percent = []\n",
    "\n",
    "for i in range(1,10001):\n",
    "    exp = np.random.binomial(1,p = prob, size = N)\n",
    "    total = sum(exp)\n",
    "    percent.append(total/N)\n",
    "    if total > 0:\n",
    "        count += 1\n",
    "\n",
    "count/10000"
   ]
  },
  {
   "cell_type": "code",
   "execution_count": 52,
   "metadata": {},
   "outputs": [
    {
     "name": "stdout",
     "output_type": "stream",
     "text": [
      "percent of time where life started:  0.6321009200000001\n",
      "analytic percent:  0.6321205588285577\n"
     ]
    }
   ],
   "source": [
    "print(\"percent of time where life started: \" , np.mean(percent))\n",
    "print(\"analytic percent: \", prob)"
   ]
  },
  {
   "cell_type": "code",
   "execution_count": 297,
   "metadata": {},
   "outputs": [
    {
     "data": {
      "text/plain": [
       "0.1001"
      ]
     },
     "execution_count": 297,
     "metadata": {},
     "output_type": "execute_result"
    }
   ],
   "source": [
    "#5bil planet years to 50bil mean to pick the lock\n",
    "prob = 1 - math.exp((-5000000000/50000)/50000000000)\n",
    "\n",
    "N = 50000\n",
    "count = 0\n",
    "percent = []\n",
    "\n",
    "for i in range(1,10001):\n",
    "    exp = np.random.binomial(1,p = prob, size = N)\n",
    "    total = sum(exp)\n",
    "    percent.append(total/N)\n",
    "    if total > 0:\n",
    "        count += 1\n",
    "\n",
    "count/10000"
   ]
  },
  {
   "cell_type": "code",
   "execution_count": 54,
   "metadata": {},
   "outputs": [
    {
     "name": "stdout",
     "output_type": "stream",
     "text": [
      "percent of time where life started:  0.095182592\n",
      "analytic percent:  0.09516258196404048\n"
     ]
    }
   ],
   "source": [
    "print(\"percent of time where life started: \" , np.mean(percent))\n",
    "print(\"analytic percent: \", prob)"
   ]
  },
  {
   "cell_type": "code",
   "execution_count": 298,
   "metadata": {},
   "outputs": [
    {
     "data": {
      "text/plain": [
       "0.0078"
      ]
     },
     "execution_count": 298,
     "metadata": {},
     "output_type": "execute_result"
    }
   ],
   "source": [
    "#5bil planet years to 500bil mean to pick the lock\n",
    "prob = 1 - math.exp((-5000000000/50000)/500000000000)\n",
    "\n",
    "N = 50000\n",
    "count = 0\n",
    "percent = []\n",
    "\n",
    "for i in range(1,10001):\n",
    "    exp = np.random.binomial(1,p = prob, size = N)\n",
    "    total = sum(exp)\n",
    "    percent.append(total/N)\n",
    "    if total > 0:\n",
    "        count += 1\n",
    "\n",
    "count/10000"
   ]
  },
  {
   "cell_type": "code",
   "execution_count": 299,
   "metadata": {},
   "outputs": [
    {
     "name": "stdout",
     "output_type": "stream",
     "text": [
      "percent of time where life started:  1.58e-07\n",
      "analytic percent:  1.999999800217367e-07\n"
     ]
    }
   ],
   "source": [
    "print(\"percent of time where life started: \" , np.mean(percent))\n",
    "print(\"analytic percent: \", prob)"
   ]
  },
  {
   "cell_type": "code",
   "execution_count": 304,
   "metadata": {},
   "outputs": [
    {
     "data": {
      "text/plain": [
       "0.0011"
      ]
     },
     "execution_count": 304,
     "metadata": {},
     "output_type": "execute_result"
    }
   ],
   "source": [
    "#5bil planet years to 5tril mean to pick the lock\n",
    "prob = 1 - math.exp((-5000000000/50000)/5000000000000)\n",
    "\n",
    "N = 50000\n",
    "count = 0\n",
    "percent = []\n",
    "\n",
    "for i in range(1,10001):\n",
    "    exp = np.random.binomial(1,p = prob, size = N)\n",
    "    total = sum(exp)\n",
    "    percent.append(total/N)\n",
    "    if total > 0:\n",
    "        count += 1\n",
    "\n",
    "count/10000"
   ]
  },
  {
   "cell_type": "code",
   "execution_count": 58,
   "metadata": {},
   "outputs": [
    {
     "name": "stdout",
     "output_type": "stream",
     "text": [
      "percent of time where life started:  0.001002016\n",
      "analytic percent:  0.000999500166624978\n"
     ]
    }
   ],
   "source": [
    "print(\"percent of time where life started: \" , np.mean(percent))\n",
    "print(\"analytic percent: \", prob)"
   ]
  },
  {
   "cell_type": "code",
   "execution_count": 305,
   "metadata": {},
   "outputs": [
    {
     "data": {
      "text/plain": [
       "0.0"
      ]
     },
     "execution_count": 305,
     "metadata": {},
     "output_type": "execute_result"
    }
   ],
   "source": [
    "#5bil planet years to 50tril mean to pick the lock\n",
    "prob = 1 - math.exp((-5000000000/50000)/50000000000000)\n",
    "\n",
    "N = 50000\n",
    "count = 0\n",
    "percent = []\n",
    "\n",
    "for i in range(1,10001):\n",
    "    exp = np.random.binomial(1,p = prob, size = N)\n",
    "    total = sum(exp)\n",
    "    percent.append(total/N)\n",
    "    if total > 0:\n",
    "        count += 1\n",
    "\n",
    "count/10000"
   ]
  },
  {
   "cell_type": "code",
   "execution_count": 60,
   "metadata": {},
   "outputs": [
    {
     "name": "stdout",
     "output_type": "stream",
     "text": [
      "percent of time where life started:  9.956e-05\n",
      "analytic percent:  9.999500016666385e-05\n"
     ]
    }
   ],
   "source": [
    "print(\"percent of time where life started: \" , np.mean(percent))\n",
    "print(\"analytic percent: \", prob)"
   ]
  },
  {
   "cell_type": "code",
   "execution_count": 61,
   "metadata": {},
   "outputs": [
    {
     "data": {
      "text/plain": [
       "0.3928"
      ]
     },
     "execution_count": 61,
     "metadata": {},
     "output_type": "execute_result"
    }
   ],
   "source": [
    "#5bil planet years to 500tril mean to pick the lock\n",
    "prob = 1 - math.exp(-5000000000/500000000000000)\n",
    "\n",
    "N = 50000\n",
    "count = 0\n",
    "percent = []\n",
    "\n",
    "for i in range(1,10001):\n",
    "    exp = np.random.binomial(1,p = prob, size = N)\n",
    "    total = sum(exp)\n",
    "    percent.append(total/N)\n",
    "    if total > 0:\n",
    "        count += 1\n",
    "\n",
    "count/10000"
   ]
  },
  {
   "cell_type": "code",
   "execution_count": 62,
   "metadata": {},
   "outputs": [
    {
     "name": "stdout",
     "output_type": "stream",
     "text": [
      "percent of time where life started:  1.008e-05\n",
      "analytic percent:  9.999950000172397e-06\n"
     ]
    }
   ],
   "source": [
    "print(\"percent of time where life started: \" , np.mean(percent))\n",
    "print(\"analytic percent: \", prob)"
   ]
  },
  {
   "cell_type": "code",
   "execution_count": 63,
   "metadata": {},
   "outputs": [
    {
     "data": {
      "text/plain": [
       "0.0453"
      ]
     },
     "execution_count": 63,
     "metadata": {},
     "output_type": "execute_result"
    }
   ],
   "source": [
    "#5bil planet years to 5 quadrillion mean to pick the lock\n",
    "prob = 1 - math.exp(-5000000000/5000000000000000)\n",
    "\n",
    "N = 50000\n",
    "count = 0\n",
    "percent = []\n",
    "\n",
    "for i in range(1,10001):\n",
    "    exp = np.random.binomial(1,p = prob, size = N)\n",
    "    total = sum(exp)\n",
    "    percent.append(total/N)\n",
    "    if total > 0:\n",
    "        count += 1\n",
    "\n",
    "count/10000"
   ]
  },
  {
   "cell_type": "code",
   "execution_count": 248,
   "metadata": {},
   "outputs": [
    {
     "name": "stdout",
     "output_type": "stream",
     "text": [
      "analytic percent:  9.999994999843054e-07\n"
     ]
    }
   ],
   "source": [
    "print(\"analytic percent: \", 1 - math.exp(-5000000000/5000000000000000))"
   ]
  },
  {
   "cell_type": "code",
   "execution_count": 64,
   "metadata": {},
   "outputs": [
    {
     "data": {
      "text/plain": [
       "0.0043"
      ]
     },
     "execution_count": 64,
     "metadata": {},
     "output_type": "execute_result"
    }
   ],
   "source": [
    "#5bil planet years to 50 quadrillion mean to pick the lock\n",
    "prob = 1 - math.exp(-5000000000/50000000000000000)\n",
    "\n",
    "N = 50000\n",
    "count = 0\n",
    "percent = []\n",
    "\n",
    "for i in range(1,10001):\n",
    "    exp = np.random.binomial(1,p = prob, size = N)\n",
    "    total = sum(exp)\n",
    "    percent.append(total/N)\n",
    "    if total > 0:\n",
    "        count += 1\n",
    "\n",
    "count/10000"
   ]
  },
  {
   "cell_type": "code",
   "execution_count": 249,
   "metadata": {},
   "outputs": [
    {
     "name": "stdout",
     "output_type": "stream",
     "text": [
      "analytic percent:  9.99999949513608e-08\n"
     ]
    }
   ],
   "source": [
    "print(\"analytic percent: \", 1 - math.exp(-5000000000/50000000000000000))"
   ]
  },
  {
   "cell_type": "code",
   "execution_count": 65,
   "metadata": {},
   "outputs": [
    {
     "data": {
      "text/plain": [
       "0.0002"
      ]
     },
     "execution_count": 65,
     "metadata": {},
     "output_type": "execute_result"
    }
   ],
   "source": [
    "#5bil planet years to 500 quadrillion mean to pick the lock\n",
    "prob = 1 - math.exp(-5000000000/500000000000000000)\n",
    "\n",
    "N = 50000\n",
    "count = 0\n",
    "percent = []\n",
    "\n",
    "for i in range(1,10001):\n",
    "    exp = np.random.binomial(1,p = prob, size = N)\n",
    "    total = sum(exp)\n",
    "    percent.append(total/N)\n",
    "    if total > 0:\n",
    "        count += 1\n",
    "\n",
    "count/10000"
   ]
  },
  {
   "cell_type": "code",
   "execution_count": 250,
   "metadata": {},
   "outputs": [
    {
     "name": "stdout",
     "output_type": "stream",
     "text": [
      "analytic percent:  9.99999993922529e-09\n"
     ]
    }
   ],
   "source": [
    "print(\"analytic percent: \", 1 - math.exp(-5000000000/500000000000000000))"
   ]
  },
  {
   "cell_type": "markdown",
   "metadata": {},
   "source": [
    "# 3. Monte Carlo from tau = 5bil to tau = 500 quadrillion with 2 planets in a system"
   ]
  },
  {
   "cell_type": "code",
   "execution_count": 311,
   "metadata": {},
   "outputs": [
    {
     "name": "stdout",
     "output_type": "stream",
     "text": [
      "500\n",
      "1000\n",
      "1500\n",
      "2000\n",
      "2500\n",
      "3000\n",
      "3500\n",
      "4000\n",
      "4500\n",
      "5000\n",
      "percent of the time the system was inhabited by time T:  1.0\n",
      "percent of time life started during time T:  0.013224813333333333\n",
      "analytic percent:  0.006644493744965563\n"
     ]
    }
   ],
   "source": [
    "#5bil planet years to 50 mil mean to pick the lock\n",
    "prob = 1 - math.exp((-5000000000/15000)/50000000)\n",
    "\n",
    "N = 15000\n",
    "count = 0\n",
    "percent = []\n",
    "\n",
    "\n",
    "for i in range(1,5001):\n",
    "    #making 2 planets with the sim \n",
    "    planet1 = np.random.binomial(1,p = prob, size = N)\n",
    "    planet2 = np.random.binomial(1,p = prob, size = N)\n",
    "    system = []\n",
    "    \n",
    "    for j in range(len(planet1)):\n",
    "        if planet1[j] == 1 or planet2[j] == 1:\n",
    "            system.append(1)\n",
    "        else:\n",
    "            system.append(0)\n",
    "    \n",
    "    total = sum(system)\n",
    "    percent.append(total/N)\n",
    "    if i % 500 == 0:\n",
    "        print(i)\n",
    "    if total > 0:\n",
    "        count += 1\n",
    "\n",
    "print(\"percent of the time the system was inhabited by time T: \" , count/5000)\n",
    "print(\"percent of time life started during time T: \" , np.mean(percent))\n",
    "print(\"analytic percent: \", prob)"
   ]
  },
  {
   "cell_type": "code",
   "execution_count": 312,
   "metadata": {},
   "outputs": [
    {
     "name": "stdout",
     "output_type": "stream",
     "text": [
      "500\n",
      "1000\n",
      "1500\n",
      "2000\n",
      "2500\n",
      "3000\n",
      "3500\n",
      "4000\n",
      "4500\n",
      "5000\n",
      "percent of the time the system was inhabited by time T:  1.0\n",
      "percent of time life started during time T:  0.00133268\n",
      "analytic percent:  0.0006664444938189185\n"
     ]
    }
   ],
   "source": [
    "#5bil planet years to 500 mil mean to pick the lock\n",
    "prob = 1 - math.exp((-5000000000/15000)/500000000)\n",
    "\n",
    "N = 15000\n",
    "count = 0\n",
    "percent = []\n",
    "\n",
    "\n",
    "for i in range(1,5001):\n",
    "    #making 2 planets with the sim \n",
    "    planet1 = np.random.binomial(1,p = prob, size = N)\n",
    "    planet2 = np.random.binomial(1,p = prob, size = N)\n",
    "    system = []\n",
    "    \n",
    "    for j in range(len(planet1)):\n",
    "        if planet1[j] == 1 or planet2[j] == 1:\n",
    "            system.append(1)\n",
    "        else:\n",
    "            system.append(0)\n",
    "    \n",
    "    total = sum(system)\n",
    "    percent.append(total/N)\n",
    "    if i % 500 == 0:\n",
    "        print(i)\n",
    "    if total > 0:\n",
    "        count += 1\n",
    "\n",
    "print(\"percent of the time the system was inhabited by time T: \" , count/5000)\n",
    "print(\"percent of time life started during time T: \" , np.mean(percent))\n",
    "print(\"analytic percent: \", prob)"
   ]
  },
  {
   "cell_type": "code",
   "execution_count": 306,
   "metadata": {},
   "outputs": [
    {
     "name": "stdout",
     "output_type": "stream",
     "text": [
      "500\n",
      "1000\n",
      "1500\n",
      "2000\n",
      "2500\n",
      "3000\n",
      "3500\n",
      "4000\n",
      "4500\n",
      "5000\n",
      "percent of the time the system was inhabited by time T:  0.874\n",
      "percent of time life started during time T:  0.00013516\n",
      "analytic percent:  6.66644444938802e-05\n"
     ]
    }
   ],
   "source": [
    "#5bil planet years to 5bil mean to pick the lock\n",
    "prob = 1 - math.exp((-5000000000/15000)/5000000000)\n",
    "\n",
    "N = 15000\n",
    "count = 0\n",
    "percent = []\n",
    "\n",
    "\n",
    "for i in range(1,5001):\n",
    "    #making 2 planets with the sim \n",
    "    planet1 = np.random.binomial(1,p = prob, size = N)\n",
    "    planet2 = np.random.binomial(1,p = prob, size = N)\n",
    "    system = []\n",
    "    \n",
    "    for j in range(len(planet1)):\n",
    "        if planet1[j] == 1 or planet2[j] == 1:\n",
    "            system.append(1)\n",
    "        else:\n",
    "            system.append(0)\n",
    "    \n",
    "    total = sum(system)\n",
    "    percent.append(total/N)\n",
    "    if i % 500 == 0:\n",
    "        print(i)\n",
    "    if total > 0:\n",
    "        count += 1\n",
    "\n",
    "print(\"percent of the time the system was inhabited by time T: \" , count/5000)\n",
    "print(\"percent of time life started during time T: \" , np.mean(percent))\n",
    "print(\"analytic percent: \", prob)"
   ]
  },
  {
   "cell_type": "code",
   "execution_count": 307,
   "metadata": {},
   "outputs": [
    {
     "name": "stdout",
     "output_type": "stream",
     "text": [
      "500\n",
      "1000\n",
      "1500\n",
      "2000\n",
      "2500\n",
      "3000\n",
      "3500\n",
      "4000\n",
      "4500\n",
      "5000\n",
      "percent of the time the system was inhabited by time T:  0.179\n",
      "percent of time life started during time T:  1.3320000000000001e-05\n",
      "analytic percent:  6.6666444444862805e-06\n"
     ]
    }
   ],
   "source": [
    "#5bil planet years to 50bil mean to pick the lock\n",
    "prob = 1 - math.exp((-5000000000/15000)/50000000000)\n",
    "\n",
    "N = 15000\n",
    "count = 0\n",
    "percent = []\n",
    "\n",
    "\n",
    "for i in range(1,5001):\n",
    "    #making 2 planets with the sim \n",
    "    planet1 = np.random.binomial(1,p = prob, size = N)\n",
    "    planet2 = np.random.binomial(1,p = prob, size = N)\n",
    "    system = []\n",
    "    \n",
    "    for j in range(len(planet1)):\n",
    "        if planet1[j] == 1 or planet2[j] == 1:\n",
    "            system.append(1)\n",
    "        else:\n",
    "            system.append(0)\n",
    "    \n",
    "    total = sum(system)\n",
    "    percent.append(total/N)\n",
    "    if i % 500 == 0:\n",
    "        print(i)\n",
    "    if total > 0:\n",
    "        count += 1\n",
    "\n",
    "print(\"percent of the time the system was inhabited by time T: \" , count/5000)\n",
    "print(\"percent of time life started during time T: \" , np.mean(percent))\n",
    "print(\"analytic percent: \", prob)"
   ]
  },
  {
   "cell_type": "code",
   "execution_count": 308,
   "metadata": {},
   "outputs": [
    {
     "name": "stdout",
     "output_type": "stream",
     "text": [
      "500\n",
      "1000\n",
      "1500\n",
      "2000\n",
      "2500\n",
      "3000\n",
      "3500\n",
      "4000\n",
      "4500\n",
      "5000\n",
      "percent of the time the system was inhabited by time T:  0.0222\n",
      "percent of time life started during time T:  1.4933333333333336e-06\n",
      "analytic percent:  6.666664444932024e-07\n"
     ]
    }
   ],
   "source": [
    "#5bil planet years to 500 bil mean to pick the lock\n",
    "prob = 1 - math.exp((-5000000000/15000)/500000000000)\n",
    "\n",
    "N = 15000\n",
    "count = 0\n",
    "percent = []\n",
    "\n",
    "\n",
    "for i in range(1,5001):\n",
    "    #making 2 planets with the sim \n",
    "    planet1 = np.random.binomial(1,p = prob, size = N)\n",
    "    planet2 = np.random.binomial(1,p = prob, size = N)\n",
    "    system = []\n",
    "    \n",
    "    for j in range(len(planet1)):\n",
    "        if planet1[j] == 1 or planet2[j] == 1:\n",
    "            system.append(1)\n",
    "        else:\n",
    "            system.append(0)\n",
    "    \n",
    "    total = sum(system)\n",
    "    percent.append(total/N)\n",
    "    if i % 500 == 0:\n",
    "        print(i)\n",
    "    if total > 0:\n",
    "        count += 1\n",
    "\n",
    "print(\"percent of the time the system was inhabited by time T: \" , count/5000)\n",
    "print(\"percent of time life started during time T: \" , np.mean(percent))\n",
    "print(\"analytic percent: \", prob)"
   ]
  },
  {
   "cell_type": "code",
   "execution_count": 309,
   "metadata": {},
   "outputs": [
    {
     "name": "stdout",
     "output_type": "stream",
     "text": [
      "500\n",
      "1000\n",
      "1500\n",
      "2000\n",
      "2500\n",
      "3000\n",
      "3500\n",
      "4000\n",
      "4500\n",
      "5000\n",
      "percent of the time the system was inhabited by time T:  0.003\n",
      "percent of time life started during time T:  2e-07\n",
      "analytic percent:  6.666666441113023e-08\n"
     ]
    }
   ],
   "source": [
    "#5bil planet years to 5 trillion mean to pick the lock\n",
    "prob = 1 - math.exp((-5000000000/15000)/5000000000000)\n",
    "\n",
    "N = 15000\n",
    "count = 0\n",
    "percent = []\n",
    "\n",
    "\n",
    "for i in range(1,5001):\n",
    "    #making 2 planets with the sim \n",
    "    planet1 = np.random.binomial(1,p = prob, size = N)\n",
    "    planet2 = np.random.binomial(1,p = prob, size = N)\n",
    "    system = []\n",
    "    \n",
    "    for j in range(len(planet1)):\n",
    "        if planet1[j] == 1 or planet2[j] == 1:\n",
    "            system.append(1)\n",
    "        else:\n",
    "            system.append(0)\n",
    "    \n",
    "    total = sum(system)\n",
    "    percent.append(total/N)\n",
    "    if i % 500 == 0:\n",
    "        print(i)\n",
    "    if total > 0:\n",
    "        count += 1\n",
    "\n",
    "print(\"percent of the time the system was inhabited by time T: \" , count/5000)\n",
    "print(\"percent of time life started during time T: \" , np.mean(percent))\n",
    "print(\"analytic percent: \", prob)"
   ]
  },
  {
   "cell_type": "code",
   "execution_count": 310,
   "metadata": {},
   "outputs": [
    {
     "name": "stdout",
     "output_type": "stream",
     "text": [
      "500\n",
      "1000\n",
      "1500\n",
      "2000\n",
      "2500\n",
      "3000\n",
      "3500\n",
      "4000\n",
      "4500\n",
      "5000\n",
      "percent of the time the system was inhabited by time T:  0.0002\n",
      "percent of time life started during time T:  1.3333333333333334e-08\n",
      "analytic percent:  6.666666663157628e-09\n"
     ]
    }
   ],
   "source": [
    "#5bil planet years to 50 trillion mean to pick the lock\n",
    "prob = 1 - math.exp((-5000000000/15000)/50000000000000)\n",
    "\n",
    "N = 15000\n",
    "count = 0\n",
    "percent = []\n",
    "\n",
    "\n",
    "for i in range(1,5001):\n",
    "    #making 2 planets with the sim \n",
    "    planet1 = np.random.binomial(1,p = prob, size = N)\n",
    "    planet2 = np.random.binomial(1,p = prob, size = N)\n",
    "    system = []\n",
    "    \n",
    "    for j in range(len(planet1)):\n",
    "        if planet1[j] == 1 or planet2[j] == 1:\n",
    "            system.append(1)\n",
    "        else:\n",
    "            system.append(0)\n",
    "    \n",
    "    total = sum(system)\n",
    "    percent.append(total/N)\n",
    "    if i % 500 == 0:\n",
    "        print(i)\n",
    "    if total > 0:\n",
    "        count += 1\n",
    "\n",
    "print(\"percent of the time the system was inhabited by time T: \" , count/5000)\n",
    "print(\"percent of time life started during time T: \" , np.mean(percent))\n",
    "print(\"analytic percent: \", prob)"
   ]
  },
  {
   "cell_type": "code",
   "execution_count": 88,
   "metadata": {},
   "outputs": [
    {
     "name": "stdout",
     "output_type": "stream",
     "text": [
      "500\n",
      "1000\n",
      "1500\n",
      "2000\n",
      "2500\n",
      "3000\n",
      "3500\n",
      "4000\n",
      "4500\n",
      "5000\n",
      "percent of the time the system was inhabited by time T:  0.2522\n",
      "percent of time life started during time T:  1.9626666666666666e-05\n",
      "analytic percent:  9.999950000172397e-06\n"
     ]
    }
   ],
   "source": [
    "#5bil planet years to 500 trillion mean to pick the lock\n",
    "prob = 1 - math.exp(-5000000000/500000000000000)\n",
    "\n",
    "N = 15000\n",
    "count = 0\n",
    "percent = []\n",
    "\n",
    "\n",
    "for i in range(1,5001):\n",
    "    #making 2 planets with the sim \n",
    "    planet1 = np.random.binomial(1,p = prob, size = N)\n",
    "    planet2 = np.random.binomial(1,p = prob, size = N)\n",
    "    system = []\n",
    "    \n",
    "    for j in range(len(planet1)):\n",
    "        if planet1[j] == 1 or planet2[j] == 1:\n",
    "            system.append(1)\n",
    "        else:\n",
    "            system.append(0)\n",
    "    \n",
    "    total = sum(system)\n",
    "    percent.append(total/N)\n",
    "    if i % 500 == 0:\n",
    "        print(i)\n",
    "    if total > 0:\n",
    "        count += 1\n",
    "\n",
    "print(\"percent of the time the system was inhabited by time T: \" , count/5000)\n",
    "print(\"percent of time life started during time T: \" , np.mean(percent))\n",
    "print(\"analytic percent: \", prob)"
   ]
  },
  {
   "cell_type": "code",
   "execution_count": 90,
   "metadata": {},
   "outputs": [
    {
     "name": "stdout",
     "output_type": "stream",
     "text": [
      "500\n",
      "1000\n",
      "1500\n",
      "2000\n",
      "2500\n",
      "3000\n",
      "3500\n",
      "4000\n",
      "4500\n",
      "5000\n",
      "percent of the time the system was inhabited by time T:  0.024\n",
      "percent of time life started during time T:  1.6266666666666666e-06\n",
      "analytic percent:  9.999994999843054e-07\n"
     ]
    }
   ],
   "source": [
    "#5bil planet years to 5 quadrillion mean to pick the lock\n",
    "prob = 1 - math.exp(-5000000000/5000000000000000)\n",
    "\n",
    "N = 15000\n",
    "count = 0\n",
    "percent = []\n",
    "\n",
    "\n",
    "for i in range(1,5001):\n",
    "    #making 2 planets with the sim \n",
    "    planet1 = np.random.binomial(1,p = prob, size = N)\n",
    "    planet2 = np.random.binomial(1,p = prob, size = N)\n",
    "    system = []\n",
    "    \n",
    "    for j in range(len(planet1)):\n",
    "        if planet1[j] == 1 or planet2[j] == 1:\n",
    "            system.append(1)\n",
    "        else:\n",
    "            system.append(0)\n",
    "    \n",
    "    total = sum(system)\n",
    "    percent.append(total/N)\n",
    "    if i % 500 == 0:\n",
    "        print(i)\n",
    "    if total > 0:\n",
    "        count += 1\n",
    "\n",
    "print(\"percent of the time the system was inhabited by time T: \" , count/5000)\n",
    "print(\"percent of time life started during time T: \" , np.mean(percent))\n",
    "print(\"analytic percent: \", prob)"
   ]
  },
  {
   "cell_type": "code",
   "execution_count": 251,
   "metadata": {},
   "outputs": [
    {
     "name": "stdout",
     "output_type": "stream",
     "text": [
      "500\n",
      "1000\n",
      "1500\n",
      "2000\n",
      "2500\n",
      "3000\n",
      "3500\n",
      "4000\n",
      "4500\n",
      "5000\n",
      "percent of the time the system was inhabited by time T:  0.0026\n",
      "percent of time life started during time T:  1.7333333333333332e-07\n",
      "analytic percent:  9.99999949513608e-08\n"
     ]
    }
   ],
   "source": [
    "#5bil planet years to 50 quadrillion mean to pick the lock\n",
    "prob = 1 - math.exp(-5000000000/50000000000000000)\n",
    "\n",
    "N = 15000\n",
    "count = 0\n",
    "percent = []\n",
    "\n",
    "\n",
    "for i in range(1,5001):\n",
    "    #making 2 planets with the sim \n",
    "    planet1 = np.random.binomial(1,p = prob, size = N)\n",
    "    planet2 = np.random.binomial(1,p = prob, size = N)\n",
    "    system = []\n",
    "    \n",
    "    for j in range(len(planet1)):\n",
    "        if planet1[j] == 1 or planet2[j] == 1:\n",
    "            system.append(1)\n",
    "        else:\n",
    "            system.append(0)\n",
    "    \n",
    "    total = sum(system)\n",
    "    percent.append(total/N)\n",
    "    if i % 500 == 0:\n",
    "        print(i)\n",
    "    if total > 0:\n",
    "        count += 1\n",
    "\n",
    "print(\"percent of the time the system was inhabited by time T: \" , count/5000)\n",
    "print(\"percent of time life started during time T: \" , np.mean(percent))\n",
    "print(\"analytic percent: \", prob)"
   ]
  },
  {
   "cell_type": "code",
   "execution_count": 253,
   "metadata": {},
   "outputs": [
    {
     "name": "stdout",
     "output_type": "stream",
     "text": [
      "500\n",
      "1000\n",
      "1500\n",
      "2000\n",
      "2500\n",
      "3000\n",
      "3500\n",
      "4000\n",
      "4500\n",
      "5000\n",
      "percent of the time the system was inhabited by time T:  0.0002\n",
      "percent of time life started during time T:  1.3333333333333334e-08\n",
      "analytic percent:  9.99999993922529e-09\n"
     ]
    }
   ],
   "source": [
    "#5bil planet years to 500 quadrillion mean to pick the lock\n",
    "prob = 1 - math.exp(-5000000000/500000000000000000)\n",
    "\n",
    "N = 15000\n",
    "count = 0\n",
    "percent = []\n",
    "\n",
    "\n",
    "for i in range(1,5001):\n",
    "    #making 2 planets with the sim \n",
    "    planet1 = np.random.binomial(1,p = prob, size = N)\n",
    "    planet2 = np.random.binomial(1,p = prob, size = N)\n",
    "    system = []\n",
    "    \n",
    "    for j in range(len(planet1)):\n",
    "        if planet1[j] == 1 or planet2[j] == 1:\n",
    "            system.append(1)\n",
    "        else:\n",
    "            system.append(0)\n",
    "    \n",
    "    total = sum(system)\n",
    "    percent.append(total/N)\n",
    "    if i % 500 == 0:\n",
    "        print(i)\n",
    "    if total > 0:\n",
    "        count += 1\n",
    "\n",
    "print(\"percent of the time the system was inhabited by time T: \" , count/5000)\n",
    "print(\"percent of time life started during time T: \" , np.mean(percent))\n",
    "print(\"analytic percent: \", prob)"
   ]
  },
  {
   "cell_type": "markdown",
   "metadata": {},
   "source": [
    "# 4. Monte Carlo from tau = 5bil to tau = 500 quadrillion with 1 planet.  Now checking random observations  "
   ]
  },
  {
   "cell_type": "code",
   "execution_count": 313,
   "metadata": {},
   "outputs": [
    {
     "name": "stdout",
     "output_type": "stream",
     "text": [
      "16043\n",
      "mean times we observed life taking a random sample from the planet:  0.93\n"
     ]
    }
   ],
   "source": [
    "#5bil planet years to 50 mil mean to pick the lock\n",
    "prob = 1 - math.exp((-5000000000/500000)/50000000)\n",
    "\n",
    "N = 500000\n",
    "count = 0\n",
    "planet_life = []\n",
    "found_life = False \n",
    "planet1 = np.random.binomial(1,p = prob, size = N)\n",
    "i = 0\n",
    "\n",
    "while i < N and found_life == False: \n",
    "    \n",
    "    if planet1[i] == 1:\n",
    "        print(i)\n",
    "        for j in range(i,N):\n",
    "            planet1[j] = 1\n",
    "        found_life = True \n",
    "    \n",
    "    else:\n",
    "        i += 1\n",
    "            \n",
    "\n",
    "print(\"mean times we observed life taking a random sample from the planet: \",  \n",
    "      np.mean(sample(list(planet1),100)))"
   ]
  },
  {
   "cell_type": "code",
   "execution_count": 314,
   "metadata": {},
   "outputs": [
    {
     "name": "stdout",
     "output_type": "stream",
     "text": [
      "27003\n",
      "mean times we observed life taking a random sample from the planet:  0.97\n"
     ]
    }
   ],
   "source": [
    "#5bil planet years to 500 mil mean to pick the lock\n",
    "prob = 1 - math.exp((-5000000000/500000)/500000000)\n",
    "\n",
    "N = 500000\n",
    "count = 0\n",
    "planet_life = []\n",
    "found_life = False \n",
    "planet1 = np.random.binomial(1,p = prob, size = N)\n",
    "i = 0\n",
    "\n",
    "while i < N and found_life == False: \n",
    "    \n",
    "    if planet1[i] == 1:\n",
    "        print(i)\n",
    "        for j in range(i,N):\n",
    "            planet1[j] = 1\n",
    "        found_life = True \n",
    "    \n",
    "    else:\n",
    "        i += 1\n",
    "            \n",
    "\n",
    "print(\"mean times we observed life taking a random sample from the planet: \",  \n",
    "      np.mean(sample(list(planet1),100)))"
   ]
  },
  {
   "cell_type": "code",
   "execution_count": 315,
   "metadata": {},
   "outputs": [
    {
     "name": "stdout",
     "output_type": "stream",
     "text": [
      "283963\n",
      "mean times we observed life taking a random sample from the planet:  0.4\n"
     ]
    }
   ],
   "source": [
    "#5bil planet years to 5bil mean to pick the lock\n",
    "prob = 1 - math.exp((-5000000000/500000)/5000000000)\n",
    "\n",
    "N = 500000\n",
    "count = 0\n",
    "planet_life = []\n",
    "found_life = False \n",
    "planet1 = np.random.binomial(1,p = prob, size = N)\n",
    "i = 0\n",
    "\n",
    "while i < N and found_life == False: \n",
    "    \n",
    "    if planet1[i] == 1:\n",
    "        print(i)\n",
    "        for j in range(i,N):\n",
    "            planet1[j] = 1\n",
    "        found_life = True \n",
    "    \n",
    "    else:\n",
    "        i += 1\n",
    "            \n",
    "\n",
    "print(\"mean times we observed life taking a random sample from the planet: \",  \n",
    "      np.mean(sample(list(planet1),100)))"
   ]
  },
  {
   "cell_type": "code",
   "execution_count": 316,
   "metadata": {},
   "outputs": [
    {
     "name": "stdout",
     "output_type": "stream",
     "text": [
      "261294\n",
      "mean times we observed life taking a random sample from the planet:  0.39\n"
     ]
    }
   ],
   "source": [
    "#5bil planet years to 50 bil mean to pick the lock\n",
    "prob = 1 - math.exp((-5000000000/500000)/50000000000)\n",
    "\n",
    "N = 500000\n",
    "count = 0\n",
    "planet_life = []\n",
    "found_life = False \n",
    "planet1 = np.random.binomial(1,p = prob, size = N)\n",
    "i = 0\n",
    "\n",
    "while i < N and found_life == False: \n",
    "    \n",
    "    if planet1[i] == 1:\n",
    "        print(i)\n",
    "        for j in range(i,N):\n",
    "            planet1[j] = 1\n",
    "        found_life = True \n",
    "    \n",
    "    else:\n",
    "        i += 1\n",
    "            \n",
    "\n",
    "print(\"mean times we observed life taking a random sample from the planet: \",  \n",
    "      np.mean(sample(list(planet1),100)))"
   ]
  },
  {
   "cell_type": "code",
   "execution_count": 317,
   "metadata": {},
   "outputs": [
    {
     "name": "stdout",
     "output_type": "stream",
     "text": [
      "mean times we observed life taking a random sample from the planet:  0.0\n"
     ]
    }
   ],
   "source": [
    "#5bil planet years to 500 bil mean to pick the lock\n",
    "prob = 1 - math.exp((-5000000000/500000)/500000000000)\n",
    "\n",
    "N = 500000\n",
    "count = 0\n",
    "planet_life = []\n",
    "found_life = False \n",
    "planet1 = np.random.binomial(1,p = prob, size = N)\n",
    "i = 0\n",
    "\n",
    "while i < N and found_life == False: \n",
    "    \n",
    "    if planet1[i] == 1:\n",
    "        print(i)\n",
    "        for j in range(i,N):\n",
    "            planet1[j] = 1\n",
    "        found_life = True \n",
    "    \n",
    "    else:\n",
    "        i += 1\n",
    "            \n",
    "\n",
    "print(\"mean times we observed life taking a random sample from the planet: \",  \n",
    "      np.mean(sample(list(planet1),100)))"
   ]
  },
  {
   "cell_type": "code",
   "execution_count": 318,
   "metadata": {},
   "outputs": [
    {
     "name": "stdout",
     "output_type": "stream",
     "text": [
      "mean times we observed life taking a random sample from the planet:  0.0\n"
     ]
    }
   ],
   "source": [
    "#5bil planet years to 5 trilion mean to pick the lock\n",
    "prob = 1 - math.exp((-5000000000/500000)/5000000000000)\n",
    "\n",
    "N = 5000000\n",
    "count = 0\n",
    "planet_life = []\n",
    "found_life = False \n",
    "planet1 = np.random.binomial(1,p = prob, size = N)\n",
    "i = 0\n",
    "\n",
    "while i < N and found_life == False: \n",
    "    \n",
    "    if planet1[i] == 1:\n",
    "        print(i)\n",
    "        for j in range(i,N):\n",
    "            planet1[j] = 1\n",
    "        found_life = True \n",
    "    \n",
    "    else:\n",
    "        i += 1\n",
    "            \n",
    "\n",
    "print(\"mean times we observed life taking a random sample from the planet: \",  \n",
    "      np.mean(sample(list(planet1),10)))"
   ]
  },
  {
   "cell_type": "code",
   "execution_count": 141,
   "metadata": {},
   "outputs": [
    {
     "name": "stdout",
     "output_type": "stream",
     "text": [
      "this is the amount of years in each observation period:  1000.0\n"
     ]
    }
   ],
   "source": [
    "print(\"this is the amount of years in each observation period: \", 5000000000/5000000)"
   ]
  },
  {
   "cell_type": "code",
   "execution_count": 319,
   "metadata": {},
   "outputs": [
    {
     "name": "stdout",
     "output_type": "stream",
     "text": [
      "mean times we observed life taking a random sample from the planet:  0.0\n"
     ]
    }
   ],
   "source": [
    "#5bil planet years to 50 trilion mean to pick the lock\n",
    "prob = 1 - math.exp((-5000000000/500000)/50000000000000)\n",
    "\n",
    "N = 5000000\n",
    "count = 0\n",
    "planet_life = []\n",
    "found_life = False \n",
    "planet1 = np.random.binomial(1,p = prob, size = N)\n",
    "i = 0\n",
    "\n",
    "while i < N and found_life == False: \n",
    "    \n",
    "    if planet1[i] == 1:\n",
    "        print(i)\n",
    "        for j in range(i,N):\n",
    "            planet1[j] = 1\n",
    "        found_life = True \n",
    "    \n",
    "    else:\n",
    "        i += 1\n",
    "            \n",
    "\n",
    "print(\"mean times we observed life taking a random sample from the planet: \",  \n",
    "      np.mean(sample(list(planet1),10)))"
   ]
  },
  {
   "cell_type": "code",
   "execution_count": 320,
   "metadata": {},
   "outputs": [
    {
     "name": "stdout",
     "output_type": "stream",
     "text": [
      "mean times we observed life taking a random sample from the planet:  0.0\n"
     ]
    }
   ],
   "source": [
    "#5bil planet years to 500 trilion mean to pick the lock\n",
    "prob = 1 - math.exp((-5000000000/500000)/500000000000000)\n",
    "\n",
    "N = 5000000\n",
    "count = 0\n",
    "planet_life = []\n",
    "found_life = False \n",
    "planet1 = np.random.binomial(1,p = prob, size = N)\n",
    "i = 0\n",
    "\n",
    "while i < N and found_life == False: \n",
    "    \n",
    "    if planet1[i] == 1:\n",
    "        print(i)\n",
    "        for j in range(i,N):\n",
    "            planet1[j] = 1\n",
    "        found_life = True \n",
    "    \n",
    "    else:\n",
    "        i += 1\n",
    "            \n",
    "\n",
    "print(\"mean times we observed life taking a random sample from the planet: \",  \n",
    "      np.mean(sample(list(planet1),10)))"
   ]
  },
  {
   "cell_type": "code",
   "execution_count": 144,
   "metadata": {},
   "outputs": [
    {
     "name": "stdout",
     "output_type": "stream",
     "text": [
      "431779\n",
      "mean times we observed life taking a random sample from the planet:  0.8\n"
     ]
    }
   ],
   "source": [
    "#5bil planet years to 5 quadrillion mean to pick the lock\n",
    "prob = 1 - math.exp((-5000000000/500000)/5000000000000000)\n",
    "\n",
    "N = 5000000\n",
    "count = 0\n",
    "planet_life = []\n",
    "found_life = False \n",
    "planet1 = np.random.binomial(1,p = prob, size = N)\n",
    "i = 0\n",
    "\n",
    "while i < N and found_life == False: \n",
    "    \n",
    "    if planet1[i] == 1:\n",
    "        print(i)\n",
    "        for j in range(i,N):\n",
    "            planet1[j] = 1\n",
    "        found_life = True \n",
    "    \n",
    "    else:\n",
    "        i += 1\n",
    "            \n",
    "\n",
    "print(\"mean times we observed life taking a random sample from the planet: \",  \n",
    "      np.mean(sample(list(planet1),10)))"
   ]
  },
  {
   "cell_type": "code",
   "execution_count": 145,
   "metadata": {},
   "outputs": [
    {
     "name": "stdout",
     "output_type": "stream",
     "text": [
      "984767\n",
      "mean times we observed life taking a random sample from the planet:  1.0\n"
     ]
    }
   ],
   "source": [
    "#5bil planet years to 50 quadrillion mean to pick the lock\n",
    "prob = 1 - math.exp(-5000000000/50000000000000000)\n",
    "\n",
    "N = 5000000\n",
    "count = 0\n",
    "planet_life = []\n",
    "found_life = False \n",
    "planet1 = np.random.binomial(1,p = prob, size = N)\n",
    "i = 0\n",
    "\n",
    "while i < N and found_life == False: \n",
    "    \n",
    "    if planet1[i] == 1:\n",
    "        print(i)\n",
    "        for j in range(i,N):\n",
    "            planet1[j] = 1\n",
    "        found_life = True \n",
    "    \n",
    "    else:\n",
    "        i += 1\n",
    "            \n",
    "\n",
    "print(\"mean times we observed life taking a random sample from the planet: \",  \n",
    "      np.mean(sample(list(planet1),10)))"
   ]
  },
  {
   "cell_type": "code",
   "execution_count": 254,
   "metadata": {},
   "outputs": [
    {
     "name": "stdout",
     "output_type": "stream",
     "text": [
      "mean times we observed life taking a random sample from the planet:  0.0\n"
     ]
    }
   ],
   "source": [
    "#5bil planet years to 500 quadrillion mean to pick the lock\n",
    "prob = 1 - math.exp(-5000000000/500000000000000000)\n",
    "\n",
    "N = 5000000\n",
    "count = 0\n",
    "planet_life = []\n",
    "found_life = False \n",
    "planet1 = np.random.binomial(1,p = prob, size = N)\n",
    "i = 0\n",
    "\n",
    "while i < N and found_life == False: \n",
    "    \n",
    "    if planet1[i] == 1:\n",
    "        print(i)\n",
    "        for j in range(i,N):\n",
    "            planet1[j] = 1\n",
    "        found_life = True \n",
    "    \n",
    "    else:\n",
    "        i += 1\n",
    "            \n",
    "\n",
    "print(\"mean times we observed life taking a random sample from the planet: \",  \n",
    "      np.mean(sample(list(planet1),10)))"
   ]
  },
  {
   "cell_type": "markdown",
   "metadata": {},
   "source": [
    "This one is interesting.  No life was found at all, and even more there was no life.  In other words, nothing was witnessed because nothing happened on this probability scale."
   ]
  },
  {
   "cell_type": "markdown",
   "metadata": {},
   "source": [
    "# 5. Monte Carlo from tau = 5bil to tau = 500 quadrillion with 2 planets in 1 system. Now checking random observations"
   ]
  },
  {
   "cell_type": "code",
   "execution_count": 322,
   "metadata": {},
   "outputs": [
    {
     "name": "stdout",
     "output_type": "stream",
     "text": [
      "2388\n",
      "mean times we observed life taking a random sample from the planet:  1.0\n"
     ]
    }
   ],
   "source": [
    "#5bil planet years to 50 mil mean to pick the lock\n",
    "prob = 1 - math.exp((-5000000000/500000)/50000000)\n",
    "\n",
    "N = 500000\n",
    "count = 0\n",
    "planet_life = []\n",
    "found_life = False \n",
    "planet1 = np.random.binomial(1,p = prob, size = N)\n",
    "planet2 = np.random.binomial(1,p = prob, size = N)\n",
    "system = [0] * N\n",
    "i = 0\n",
    "\n",
    "while i < N and found_life == False: \n",
    "    \n",
    "    if planet1[i] == 1 or planet2[i] == 1:\n",
    "        print(i)\n",
    "        for j in range(i,N):\n",
    "            system[j] = 1\n",
    "        found_life = True \n",
    "    \n",
    "    else:\n",
    "        i += 1\n",
    "            \n",
    "\n",
    "print(\"mean times we observed life taking a random sample from the planet: \",  \n",
    "      np.mean(sample(list(system),100)))"
   ]
  },
  {
   "cell_type": "code",
   "execution_count": 325,
   "metadata": {},
   "outputs": [
    {
     "name": "stdout",
     "output_type": "stream",
     "text": [
      "26516\n",
      "mean times we observed life taking a random sample from the planet:  0.97\n"
     ]
    }
   ],
   "source": [
    "#5bil planet years to 500 mil mean to pick the lock\n",
    "prob = 1 - math.exp((-5000000000/500000)/500000000)\n",
    "\n",
    "N = 500000\n",
    "count = 0\n",
    "planet_life = []\n",
    "found_life = False \n",
    "planet1 = np.random.binomial(1,p = prob, size = N)\n",
    "planet2 = np.random.binomial(1,p = prob, size = N)\n",
    "system = [0] * N\n",
    "i = 0\n",
    "\n",
    "while i < N and found_life == False: \n",
    "    \n",
    "    if planet1[i] == 1 or planet2[i] == 1:\n",
    "        print(i)\n",
    "        for j in range(i,N):\n",
    "            system[j] = 1\n",
    "        found_life = True \n",
    "    \n",
    "    else:\n",
    "        i += 1\n",
    "            \n",
    "\n",
    "print(\"mean times we observed life taking a random sample from the planet: \",  \n",
    "      np.mean(sample(list(system),100)))"
   ]
  },
  {
   "cell_type": "code",
   "execution_count": 324,
   "metadata": {},
   "outputs": [
    {
     "name": "stdout",
     "output_type": "stream",
     "text": [
      "23088\n",
      "mean times we observed life taking a random sample from the planet:  0.96\n"
     ]
    }
   ],
   "source": [
    "#5bil planet years to 5bil mean to pick the lock\n",
    "prob = 1 - math.exp((-5000000000/500000)/5000000000)\n",
    "\n",
    "N = 500000\n",
    "count = 0\n",
    "planet_life = []\n",
    "found_life = False \n",
    "planet1 = np.random.binomial(1,p = prob, size = N)\n",
    "planet2 = np.random.binomial(1,p = prob, size = N)\n",
    "system = [0] * N\n",
    "i = 0\n",
    "\n",
    "while i < N and found_life == False: \n",
    "    \n",
    "    if planet1[i] == 1 or planet2[i] == 1:\n",
    "        print(i)\n",
    "        for j in range(i,N):\n",
    "            system[j] = 1\n",
    "        found_life = True \n",
    "    \n",
    "    else:\n",
    "        i += 1\n",
    "            \n",
    "\n",
    "print(\"mean times we observed life taking a random sample from the planet: \",  \n",
    "      np.mean(sample(list(system),100)))"
   ]
  },
  {
   "cell_type": "code",
   "execution_count": 330,
   "metadata": {},
   "outputs": [
    {
     "name": "stdout",
     "output_type": "stream",
     "text": [
      "mean times we observed life taking a random sample from the planet:  0.0\n"
     ]
    }
   ],
   "source": [
    "#5bil planet years to 50 bil mean to pick the lock\n",
    "prob = 1 - math.exp((-5000000000/500000)/50000000000)\n",
    "\n",
    "N = 500000\n",
    "count = 0\n",
    "planet_life = []\n",
    "found_life = False \n",
    "planet1 = np.random.binomial(1,p = prob, size = N)\n",
    "planet2 = np.random.binomial(1,p = prob, size = N)\n",
    "system = [0] * N\n",
    "i = 0\n",
    "\n",
    "while i < N and found_life == False: \n",
    "    \n",
    "    if planet1[i] == 1 or planet2[i] == 1:\n",
    "        print(i)\n",
    "        for j in range(i,N):\n",
    "            system[j] = 1\n",
    "        found_life = True \n",
    "    \n",
    "    else:\n",
    "        i += 1\n",
    "            \n",
    "\n",
    "print(\"mean times we observed life taking a random sample from the planet: \",  \n",
    "      np.mean(sample(list(system),100)))"
   ]
  },
  {
   "cell_type": "code",
   "execution_count": 332,
   "metadata": {},
   "outputs": [
    {
     "name": "stdout",
     "output_type": "stream",
     "text": [
      "mean times we observed life taking a random sample from the planet:  0.0\n"
     ]
    }
   ],
   "source": [
    "#5bil planet years to 500 bil mean to pick the lock\n",
    "prob = 1 - math.exp((-5000000000/500000)/500000000000)\n",
    "\n",
    "N = 500000\n",
    "count = 0\n",
    "planet_life = []\n",
    "found_life = False \n",
    "planet1 = np.random.binomial(1,p = prob, size = N)\n",
    "planet2 = np.random.binomial(1,p = prob, size = N)\n",
    "system = [0] * N\n",
    "i = 0\n",
    "\n",
    "while i < N and found_life == False: \n",
    "    \n",
    "    if planet1[i] == 1 or planet2[i] == 1:\n",
    "        print(i)\n",
    "        for j in range(i,N):\n",
    "            system[j] = 1\n",
    "        found_life = True \n",
    "    \n",
    "    else:\n",
    "        i += 1\n",
    "            \n",
    "\n",
    "print(\"mean times we observed life taking a random sample from the planet: \",  \n",
    "      np.mean(sample(list(system),100)))"
   ]
  },
  {
   "cell_type": "code",
   "execution_count": 334,
   "metadata": {},
   "outputs": [
    {
     "name": "stdout",
     "output_type": "stream",
     "text": [
      "mean times we observed life taking a random sample from the planet:  0.0\n"
     ]
    }
   ],
   "source": [
    "#5bil planet years to 500 bil mean to pick the lock\n",
    "prob = 1 - math.exp((-5000000000/500000)/5000000000000)\n",
    "\n",
    "N = 500000\n",
    "count = 0\n",
    "planet_life = []\n",
    "found_life = False \n",
    "planet1 = np.random.binomial(1,p = prob, size = N)\n",
    "planet2 = np.random.binomial(1,p = prob, size = N)\n",
    "system = [0] * N\n",
    "i = 0\n",
    "\n",
    "while i < N and found_life == False: \n",
    "    \n",
    "    if planet1[i] == 1 or planet2[i] == 1:\n",
    "        print(i)\n",
    "        for j in range(i,N):\n",
    "            system[j] = 1\n",
    "        found_life = True \n",
    "    \n",
    "    else:\n",
    "        i += 1\n",
    "            \n",
    "\n",
    "print(\"mean times we observed life taking a random sample from the planet: \",  \n",
    "      np.mean(sample(list(system),100)))"
   ]
  },
  {
   "cell_type": "code",
   "execution_count": 335,
   "metadata": {},
   "outputs": [
    {
     "name": "stdout",
     "output_type": "stream",
     "text": [
      "mean times we observed life taking a random sample from the planet:  0.0\n"
     ]
    }
   ],
   "source": [
    "#5bil planet years to 5 trillion mean to pick the lock\n",
    "prob = 1 - math.exp((-5000000000/500000)/50000000000000)\n",
    "\n",
    "N = 500000\n",
    "count = 0\n",
    "planet_life = []\n",
    "found_life = False \n",
    "planet1 = np.random.binomial(1,p = prob, size = N)\n",
    "planet2 = np.random.binomial(1,p = prob, size = N)\n",
    "system = [0] * N\n",
    "i = 0\n",
    "\n",
    "while i < N and found_life == False: \n",
    "    \n",
    "    if planet1[i] == 1 or planet2[i] == 1:\n",
    "        print(i)\n",
    "        for j in range(i,N):\n",
    "            system[j] = 1\n",
    "        found_life = True \n",
    "    \n",
    "    else:\n",
    "        i += 1\n",
    "            \n",
    "\n",
    "print(\"mean times we observed life taking a random sample from the planet: \",  \n",
    "      np.mean(sample(list(system),100)))"
   ]
  },
  {
   "cell_type": "code",
   "execution_count": 337,
   "metadata": {},
   "outputs": [
    {
     "name": "stdout",
     "output_type": "stream",
     "text": [
      "mean times we observed life taking a random sample from the planet:  0.0\n"
     ]
    }
   ],
   "source": [
    "#5bil planet years to 50 trillion mean to pick the lock\n",
    "prob = 1 - math.exp((-5000000000/500000)/500000000000000)\n",
    "\n",
    "N = 500000\n",
    "count = 0\n",
    "planet_life = []\n",
    "found_life = False \n",
    "planet1 = np.random.binomial(1,p = prob, size = N)\n",
    "planet2 = np.random.binomial(1,p = prob, size = N)\n",
    "system = [0] * N\n",
    "i = 0\n",
    "\n",
    "while i < N and found_life == False: \n",
    "    \n",
    "    if planet1[i] == 1 or planet2[i] == 1:\n",
    "        print(i)\n",
    "        for j in range(i,N):\n",
    "            system[j] = 1\n",
    "        found_life = True \n",
    "    \n",
    "    else:\n",
    "        i += 1\n",
    "            \n",
    "\n",
    "print(\"mean times we observed life taking a random sample from the planet: \",  \n",
    "      np.mean(sample(list(system),100)))"
   ]
  },
  {
   "cell_type": "code",
   "execution_count": 156,
   "metadata": {},
   "outputs": [
    {
     "name": "stdout",
     "output_type": "stream",
     "text": [
      "mean times we observed life taking a random sample from the planet:  0.0\n"
     ]
    }
   ],
   "source": [
    "#5bil planet years to 500 trillion mean to pick the lock\n",
    "prob = 1 - math.exp(-5000000000/5000000000000000)\n",
    "\n",
    "N = 500000\n",
    "count = 0\n",
    "planet_life = []\n",
    "found_life = False \n",
    "planet1 = np.random.binomial(1,p = prob, size = N)\n",
    "planet2 = np.random.binomial(1,p = prob, size = N)\n",
    "system = [0] * N\n",
    "i = 0\n",
    "\n",
    "while i < N and found_life == False: \n",
    "    \n",
    "    if planet1[i] == 1 or planet2[i] == 1:\n",
    "        print(i)\n",
    "        for j in range(i,N):\n",
    "            system[j] = 1\n",
    "        found_life = True \n",
    "    \n",
    "    else:\n",
    "        i += 1\n",
    "            \n",
    "\n",
    "print(\"mean times we observed life taking a random sample from the planet: \",  \n",
    "      np.mean(sample(list(system),10)))"
   ]
  },
  {
   "cell_type": "code",
   "execution_count": 157,
   "metadata": {},
   "outputs": [
    {
     "name": "stdout",
     "output_type": "stream",
     "text": [
      "186093\n",
      "mean times we observed life taking a random sample from the planet:  0.5\n"
     ]
    }
   ],
   "source": [
    "#5bil planet years to 5 quadrillion mean to pick the lock\n",
    "prob = 1 - math.exp(-5000000000/50000000000000000)\n",
    "\n",
    "N = 500000\n",
    "count = 0\n",
    "planet_life = []\n",
    "found_life = False \n",
    "planet1 = np.random.binomial(1,p = prob, size = N)\n",
    "planet2 = np.random.binomial(1,p = prob, size = N)\n",
    "system = [0] * N\n",
    "i = 0\n",
    "\n",
    "while i < N and found_life == False: \n",
    "    \n",
    "    if planet1[i] == 1 or planet2[i] == 1:\n",
    "        print(i)\n",
    "        for j in range(i,N):\n",
    "            system[j] = 1\n",
    "        found_life = True \n",
    "    \n",
    "    else:\n",
    "        i += 1\n",
    "            \n",
    "\n",
    "print(\"mean times we observed life taking a random sample from the planet: \",  \n",
    "      np.mean(sample(list(system),10)))"
   ]
  },
  {
   "cell_type": "code",
   "execution_count": 158,
   "metadata": {},
   "outputs": [
    {
     "name": "stdout",
     "output_type": "stream",
     "text": [
      "mean times we observed life taking a random sample from the planet:  0.0\n"
     ]
    }
   ],
   "source": [
    "#5bil planet years to 50 quadrillion mean to pick the lock\n",
    "prob = 1 - math.exp(-5000000000/500000000000000000)\n",
    "\n",
    "N = 500000\n",
    "count = 0\n",
    "planet_life = []\n",
    "found_life = False \n",
    "planet1 = np.random.binomial(1,p = prob, size = N)\n",
    "planet2 = np.random.binomial(1,p = prob, size = N)\n",
    "system = [0] * N\n",
    "i = 0\n",
    "\n",
    "while i < N and found_life == False: \n",
    "    \n",
    "    if planet1[i] == 1 or planet2[i] == 1:\n",
    "        print(i)\n",
    "        for j in range(i,N):\n",
    "            system[j] = 1\n",
    "        found_life = True \n",
    "    \n",
    "    else:\n",
    "        i += 1\n",
    "            \n",
    "\n",
    "print(\"mean times we observed life taking a random sample from the planet: \",  \n",
    "      np.mean(sample(list(system),10)))"
   ]
  },
  {
   "cell_type": "code",
   "execution_count": 159,
   "metadata": {},
   "outputs": [
    {
     "name": "stdout",
     "output_type": "stream",
     "text": [
      "mean times we observed life taking a random sample from the planet:  0.0\n"
     ]
    }
   ],
   "source": [
    "#5bil planet years to 500 quadrillion mean to pick the lock\n",
    "prob = 1 - math.exp(-5000000000/5000000000000000000)\n",
    "\n",
    "N = 500000\n",
    "count = 0\n",
    "planet_life = []\n",
    "found_life = False \n",
    "planet1 = np.random.binomial(1,p = prob, size = N)\n",
    "planet2 = np.random.binomial(1,p = prob, size = N)\n",
    "system = [0] * N\n",
    "i = 0\n",
    "\n",
    "while i < N and found_life == False: \n",
    "    \n",
    "    if planet1[i] == 1 or planet2[i] == 1:\n",
    "        print(i)\n",
    "        for j in range(i,N):\n",
    "            system[j] = 1\n",
    "        found_life = True \n",
    "    \n",
    "    else:\n",
    "        i += 1\n",
    "            \n",
    "\n",
    "print(\"mean times we observed life taking a random sample from the planet: \",  \n",
    "      np.mean(sample(list(system),10)))"
   ]
  },
  {
   "cell_type": "markdown",
   "metadata": {},
   "source": [
    "# 5. Monte Carlo from tau = 5bil to tau = 500 quadrillion with 2 planets in 1 system with panspermia. "
   ]
  },
  {
   "cell_type": "code",
   "execution_count": 348,
   "metadata": {},
   "outputs": [],
   "source": [
    "#5bil planet years to what ever tau you want \n",
    "def panspermia_2planets(abio_age, pans_age):\n",
    "    \n",
    "    abio = 1 - math.exp((-5000000000/50000)/abio_age)\n",
    "    pans = 1 - math.exp((-5000000000/50000)/(pans_age/50000))\n",
    "\n",
    "    N = 50000\n",
    "    count = 0\n",
    "    planet_life = []\n",
    "    found_life_p1 = False \n",
    "    found_life_p2 = False\n",
    "    transfered_life = False \n",
    "    planet1 = np.random.binomial(1,p = abio, size = N)\n",
    "    planet2 = np.random.binomial(1,p = abio, size = N)\n",
    "    panspermia_e1 = np.random.binomial(1,p = pans, size = N)\n",
    "    panspermia_e2 = np.random.binomial(1,p = pans, size = N)\n",
    "    system = [0] * N\n",
    "    i = 0\n",
    "\n",
    "    #loop for abiogenesis \n",
    "    while i < N and (found_life_p1 == False and found_life_p2 == False): \n",
    "\n",
    "        #condition for finding new life on planet 1\n",
    "        if planet1[i] == 1 and found_life_p1 == False:\n",
    "            #print(\"new life started on planet 1 at index from abiogensis: \", i)\n",
    "            p1_idx = i\n",
    "            for j in range(i,N):\n",
    "                    planet1[j] = 1\n",
    "                    found_life_p1 = True\n",
    "            if found_life_p2 == False:\n",
    "                for j in range(i,N):\n",
    "                    system[j] = 1         \n",
    "\n",
    "        #condition for finding new life on planet 2\n",
    "        if planet2[i] == 1 and found_life_p2 == False:\n",
    "            #print(\"new life started on planet 2 at index from abiogensis: \", i)\n",
    "            p2_idx = i\n",
    "            for j in range(i,N):\n",
    "                    planet2[j] = 1\n",
    "                    found_life_p2 = True\n",
    "            if found_life_p1 == False:\n",
    "                for j in range(i,N):\n",
    "                    system[j] = 1\n",
    "                found_life_p2 = True            \n",
    "\n",
    "        #moving the index forward\n",
    "        i += 1\n",
    "\n",
    "    #loop for panspermia\n",
    "    i = 0\n",
    "    while i < N and transfered_life == False:\n",
    "\n",
    "        #condition for planet 1 to potentially transfer life\n",
    "        if panspermia_e1[i] == 1 and planet1[i] == 1:\n",
    "\n",
    "            if planet2[i] == 0:\n",
    "                transfered_life = True\n",
    "                #print(\"new life started on planet 2 at index from panspermia: \", i)\n",
    "                for j in range(i,N):\n",
    "                    planet2[j] = 1\n",
    "\n",
    "        #condition for planet 2 to potentially transfer life\n",
    "        if panspermia_e2[i] == 1 and planet2[i] == 1:\n",
    "\n",
    "            if planet1[i] == 0:\n",
    "                transfered_life = True\n",
    "                #print(\"new life started on planet 1 at index from panspermia: \", i)\n",
    "                for j in range(i,N):\n",
    "                    planet1[j] = 1\n",
    "\n",
    "        #condition when both planets have life and transferring doesnt matter \n",
    "        if planet1[i] == 1 and planet2[i] == 1:\n",
    "            transfered_life = True \n",
    "\n",
    "        i += 1\n",
    "    \n",
    "    life_percent = np.mean(sample(list(system),100))\n",
    "    print(\"mean times we observed life taking a random sample from the planet: \",  life_percent)\n",
    "    \n",
    "    #return p1_idx, p2_idx, life_percent, transfered_life\n",
    "    return transfered_life,life_percent "
   ]
  },
  {
   "cell_type": "code",
   "execution_count": 342,
   "metadata": {},
   "outputs": [
    {
     "name": "stdout",
     "output_type": "stream",
     "text": [
      "new life started on planet 2 at index from panspermia:  58\n",
      "new life started on planet 2 at index from panspermia:  332\n",
      "new life started on planet 1 at index from panspermia:  84\n",
      "new life started on planet 1 at index from panspermia:  218\n",
      "new life started on planet 2 at index from panspermia:  71\n",
      "new life started on planet 1 at index from panspermia:  579\n",
      "new life started on planet 2 at index from panspermia:  245\n",
      "new life started on planet 1 at index from panspermia:  104\n",
      "new life started on planet 1 at index from panspermia:  26\n",
      "new life started on planet 2 at index from panspermia:  125\n"
     ]
    }
   ],
   "source": [
    "#5bil planet years to 50 mil mean to pick the lock\n",
    "#5bil pans age gives about a 63% of panspermia happening\n",
    "\n",
    "for i in range(0,10):\n",
    "    panspermia_2planets(abio_age = 50000000, pans_age = 5000000000)"
   ]
  },
  {
   "cell_type": "code",
   "execution_count": 343,
   "metadata": {},
   "outputs": [
    {
     "name": "stdout",
     "output_type": "stream",
     "text": [
      "new life started on planet 2 at index from panspermia:  4234\n",
      "new life started on planet 1 at index from panspermia:  3921\n",
      "new life started on planet 2 at index from panspermia:  314\n",
      "new life started on planet 1 at index from panspermia:  6304\n",
      "new life started on planet 2 at index from panspermia:  1722\n",
      "new life started on planet 1 at index from panspermia:  447\n",
      "new life started on planet 1 at index from panspermia:  5088\n",
      "new life started on planet 1 at index from panspermia:  4983\n",
      "new life started on planet 2 at index from panspermia:  5045\n",
      "new life started on planet 1 at index from panspermia:  4154\n"
     ]
    }
   ],
   "source": [
    "#5bil planet years to 500 mil mean to pick the lock\n",
    "#5bil pans age gives about a 63% of panspermia happening\n",
    "\n",
    "for i in range(0,10):\n",
    "    panspermia_2planets(abio_age = 500000000, pans_age = 5000000000)"
   ]
  },
  {
   "cell_type": "code",
   "execution_count": 341,
   "metadata": {},
   "outputs": [
    {
     "name": "stdout",
     "output_type": "stream",
     "text": [
      "new life started on planet 1 at index from panspermia:  9672\n",
      "new life started on planet 2 at index from panspermia:  2664\n",
      "new life started on planet 2 at index from panspermia:  12274\n",
      "new life started on planet 1 at index from panspermia:  716\n",
      "new life started on planet 1 at index from panspermia:  3926\n",
      "new life started on planet 1 at index from panspermia:  7124\n",
      "new life started on planet 2 at index from panspermia:  9314\n"
     ]
    }
   ],
   "source": [
    "#5bil planet years to 5 bil mean to pick the lock\n",
    "#5bil pans age gives about a 63% of panspermia happening\n",
    "\n",
    "for i in range(0,10):\n",
    "    panspermia_2planets(abio_age = 5000000000, pans_age = 5000000000)"
   ]
  },
  {
   "cell_type": "code",
   "execution_count": 344,
   "metadata": {},
   "outputs": [
    {
     "name": "stdout",
     "output_type": "stream",
     "text": [
      "new life started on planet 1 at index from panspermia:  21321\n",
      "new life started on planet 2 at index from panspermia:  34704\n"
     ]
    }
   ],
   "source": [
    "#5bil planet years to 50 bil mean to pick the lock\n",
    "#5bil pans age gives about a 63% of panspermia happening\n",
    "for i in range(0,10):\n",
    "    panspermia_2planets(abio_age = 50000000000, pans_age = 5000000000)"
   ]
  },
  {
   "cell_type": "code",
   "execution_count": 345,
   "metadata": {},
   "outputs": [],
   "source": [
    "#5bil planet years to 500 bil mean to pick the lock\n",
    "#5bil pans age gives about a 63% of panspermia happening\n",
    "for i in range(0,10):\n",
    "    panspermia_2planets(abio_age = 500000000000, pans_age = 5000000000)"
   ]
  },
  {
   "cell_type": "code",
   "execution_count": 346,
   "metadata": {},
   "outputs": [],
   "source": [
    "#5bil planet years to 5 trillion mean to pick the lock\n",
    "#5bil pans age gives about a 63% of panspermia happening\n",
    "for i in range(0,10):\n",
    "    panspermia_2planets(abio_age = 5000000000000, pans_age = 5000000000)"
   ]
  },
  {
   "cell_type": "code",
   "execution_count": 347,
   "metadata": {},
   "outputs": [],
   "source": [
    "#5bil planet years to 50 trillion mean to pick the lock\n",
    "#5bil pans age gives about a 63% of panspermia happening\n",
    "for i in range(0,10):\n",
    "    panspermia_2planets(abio_age = 50000000000000, pans_age = 5000000000)"
   ]
  },
  {
   "cell_type": "code",
   "execution_count": 286,
   "metadata": {},
   "outputs": [
    {
     "name": "stdout",
     "output_type": "stream",
     "text": [
      "new life started on planet 1 at index from panspermia:  25026\n",
      "new life started on planet 2 at index from panspermia:  18968\n",
      "new life started on planet 1 at index from panspermia:  3899\n",
      "new life started on planet 2 at index from panspermia:  26619\n",
      "new life started on planet 2 at index from panspermia:  39388\n"
     ]
    }
   ],
   "source": [
    "#5bil planet years to 500 trillion mean to pick the lock\n",
    "#5bil pans age gives about a 63% of panspermia happening\n",
    "for i in range(0,10):\n",
    "    panspermia_2planets(abio_age = 500000000000000, pans_age = 5000000000)"
   ]
  },
  {
   "cell_type": "code",
   "execution_count": 287,
   "metadata": {},
   "outputs": [
    {
     "name": "stdout",
     "output_type": "stream",
     "text": [
      "new life started on planet 2 at index from panspermia:  2381\n"
     ]
    }
   ],
   "source": [
    "#5bil planet years to 5 quadrillion mean to pick the lock\n",
    "#5bil pans age gives about a 63% of panspermia happening\n",
    "for i in range(0,10):\n",
    "    panspermia_2planets(abio_age = 5000000000000000, pans_age = 5000000000)"
   ]
  },
  {
   "cell_type": "code",
   "execution_count": 288,
   "metadata": {},
   "outputs": [],
   "source": [
    "#5bil planet years to 50 quadrillion mean to pick the lock\n",
    "#5bil pans age gives about a 63% of panspermia happening\n",
    "for i in range(0,10):\n",
    "    panspermia_2planets(abio_age = 50000000000000000, pans_age = 5000000000)"
   ]
  },
  {
   "cell_type": "code",
   "execution_count": 289,
   "metadata": {},
   "outputs": [],
   "source": [
    "#5bil planet years to 500 quadrillion mean to pick the lock\n",
    "#5bil pans age gives about a 63% of panspermia happening\n",
    "for i in range(0,10):\n",
    "    panspermia_2planets(abio_age = 500000000000000000, pans_age = 5000000000)"
   ]
  },
  {
   "cell_type": "markdown",
   "metadata": {},
   "source": [
    "### sampling for life"
   ]
  },
  {
   "cell_type": "code",
   "execution_count": 352,
   "metadata": {
    "scrolled": true
   },
   "outputs": [
    {
     "name": "stdout",
     "output_type": "stream",
     "text": [
      "mean times we observed life taking a random sample from the planet:  1.0\n",
      "mean times we observed life taking a random sample from the planet:  0.99\n",
      "mean times we observed life taking a random sample from the planet:  0.51\n",
      "mean times we observed life taking a random sample from the planet:  0.0\n",
      "mean times we observed life taking a random sample from the planet:  0.0\n",
      "mean times we observed life taking a random sample from the planet:  0.0\n",
      "mean times we observed life taking a random sample from the planet:  0.0\n"
     ]
    },
    {
     "data": {
      "text/plain": [
       "(False, 0.0)"
      ]
     },
     "execution_count": 352,
     "metadata": {},
     "output_type": "execute_result"
    }
   ],
   "source": [
    "panspermia_2planets(abio_age = 50000000, pans_age = 5000000000)\n",
    "panspermia_2planets(abio_age = 500000000, pans_age = 5000000000)\n",
    "panspermia_2planets(abio_age = 5000000000, pans_age = 5000000000)\n",
    "panspermia_2planets(abio_age = 50000000000, pans_age = 5000000000)\n",
    "panspermia_2planets(abio_age = 500000000000, pans_age = 5000000000)\n",
    "panspermia_2planets(abio_age = 5000000000000, pans_age = 5000000000)\n",
    "panspermia_2planets(abio_age = 50000000000000, pans_age = 5000000000)"
   ]
  },
  {
   "cell_type": "code",
   "execution_count": 354,
   "metadata": {},
   "outputs": [],
   "source": [
    "def panspermia_10planets(abio_age, pans_age):\n",
    "\n",
    "    #initializing arguments\n",
    "    abio = 1 - math.exp((-5000000000/50000)/abio_age)\n",
    "    pans = 1 - math.exp(-5000000000/pans_age)\n",
    "\n",
    "    #initalizng return values and N\n",
    "    N = 50000\n",
    "    all_worlds = False\n",
    "    system = False\n",
    "    total_worlds = 0\n",
    "\n",
    "    #generating a 10 planet system\n",
    "    planet1 = np.random.binomial(1,p = abio, size = N)\n",
    "    planet2 = np.random.binomial(1,p = abio, size = N)\n",
    "    planet3 = np.random.binomial(1,p = abio, size = N)\n",
    "    planet4 = np.random.binomial(1,p = abio, size = N)\n",
    "    planet5 = np.random.binomial(1,p = abio, size = N)\n",
    "    planet6 = np.random.binomial(1,p = abio, size = N)\n",
    "    planet7 = np.random.binomial(1,p = abio, size = N)\n",
    "    planet8 = np.random.binomial(1,p = abio, size = N)\n",
    "    planet9 = np.random.binomial(1,p = abio, size = N)\n",
    "    planet10 = np.random.binomial(1,p = abio, size = N)\n",
    "\n",
    "    #generating a 10 planet panspermia event system\n",
    "    panspermia_e1 = np.random.binomial(1,p = pans, size = N)\n",
    "    panspermia_e2 = np.random.binomial(1,p = pans, size = N)\n",
    "    panspermia_e3 = np.random.binomial(1,p = pans, size = N)\n",
    "    panspermia_e4 = np.random.binomial(1,p = pans, size = N)\n",
    "    panspermia_e5 = np.random.binomial(1,p = pans, size = N)\n",
    "    panspermia_e6 = np.random.binomial(1,p = pans, size = N)\n",
    "    panspermia_e7 = np.random.binomial(1,p = pans, size = N)\n",
    "    panspermia_e8 = np.random.binomial(1,p = pans, size = N)\n",
    "    panspermia_e9 = np.random.binomial(1,p = pans, size = N)\n",
    "    panspermia_e10 = np.random.binomial(1,p = pans, size = N)\n",
    "\n",
    "    #dict to help with random panspermia events \n",
    "    planet_dict = {0: [planet1, panspermia_e1], 1: [planet2, panspermia_e2], 2: [planet3, panspermia_e3],\n",
    "                  3:[planet4, panspermia_e4], 4:[planet5, panspermia_e5], 5:[planet6, panspermia_e6],\n",
    "                  6:[planet7, panspermia_e7], 7:[planet8, panspermia_e8], 8:[planet9, panspermia_e9],\n",
    "                  9:[planet10, panspermia_e10]}\n",
    "\n",
    "    #number of panspermia events in a time slot \n",
    "    panspermia = np.random.binomial(9,p = pans, size = N)\n",
    "\n",
    "    for i in range(len(panspermia)):\n",
    "        #number of panspermia events \n",
    "        if panspermia[i] > 0:\n",
    "            for j in range(0,panspermia[i]):\n",
    "\n",
    "                #getting planet dict values\n",
    "                send = random.randint(0,9)\n",
    "                receive = random.randint(0,9)\n",
    "\n",
    "                #if panspermia event is successful \n",
    "                if planet_dict[send][1][i] == 1 and planet_dict[send][0][i] == 1:\n",
    "                    planet_dict[receive][0][i] = 1\n",
    "\n",
    "\n",
    "\n",
    "    for keys in planet_dict:\n",
    "        inhabited = planet_dict[keys][0]\n",
    "        if np.any(planet_dict[keys][0] == 1):\n",
    "            total_worlds += 1\n",
    "            system = True\n",
    "\n",
    "        if total_worlds == 10:\n",
    "            all_worlds = True        \n",
    "\n",
    "    \n",
    "    return system, total_worlds, all_worlds"
   ]
  },
  {
   "cell_type": "code",
   "execution_count": 356,
   "metadata": {},
   "outputs": [
    {
     "name": "stdout",
     "output_type": "stream",
     "text": [
      "0\n",
      "10\n",
      "20\n",
      "30\n",
      "40\n",
      "50\n",
      "60\n",
      "70\n",
      "80\n",
      "90\n",
      "percent of the simulations where the system was inhabited:  1.0\n",
      "mean number of worlds inhabited:  6.44\n",
      "percent of the time all worlds were inhabited:  0.01\n",
      "0\n",
      "10\n",
      "20\n",
      "30\n",
      "40\n",
      "50\n",
      "60\n",
      "70\n",
      "80\n",
      "90\n",
      "percent of the simulations where the system was inhabited:  1.0\n",
      "mean number of worlds inhabited:  7.73\n",
      "percent of the time all worlds were inhabited:  0.13\n",
      "0\n",
      "10\n",
      "20\n",
      "30\n",
      "40\n",
      "50\n",
      "60\n",
      "70\n",
      "80\n",
      "90\n",
      "percent of the simulations where the system was inhabited:  1.0\n",
      "mean number of worlds inhabited:  8.58\n",
      "percent of the time all worlds were inhabited:  0.25\n"
     ]
    }
   ],
   "source": [
    "# abiogensis (5 billion) and panspermia (50 trillion)\n",
    "system = []\n",
    "total_worlds = []\n",
    "all_worlds = []\n",
    "\n",
    "N = 100\n",
    "idx = 0\n",
    "\n",
    "while idx < N:\n",
    "\n",
    "    values = panspermia_10planets(abio_age = 5000000000, pans_age = 50000000000000)\n",
    "    system.append(values[0])\n",
    "    total_worlds.append(values[1])\n",
    "    all_worlds.append(values[2])\n",
    "    \n",
    "    if idx % 10 == 0:        \n",
    "        print(idx )\n",
    "    \n",
    "    idx +=1\n",
    "    \n",
    "print(\"percent of the simulations where the system was inhabited: \" , np.mean(system))\n",
    "print(\"mean number of worlds inhabited: \" , np.mean(total_worlds))\n",
    "print(\"percent of the time all worlds were inhabited: \" , np.mean(all_worlds))\n",
    "\n",
    "#abiogensis (5 billion) and modest panspermia (5 bil)\n",
    "system = []\n",
    "total_worlds = []\n",
    "all_worlds = []\n",
    "\n",
    "N = 100\n",
    "idx = 0\n",
    "\n",
    "while idx < N:\n",
    "\n",
    "    values = panspermia_10planets(abio_age = 5000000000, pans_age = 5000000000)\n",
    "    system.append(values[0])\n",
    "    total_worlds.append(values[1])\n",
    "    all_worlds.append(values[2])\n",
    "    \n",
    "    if idx % 10 == 0:        \n",
    "        print(idx )\n",
    "    \n",
    "    idx +=1\n",
    "    \n",
    "print(\"percent of the simulations where the system was inhabited: \" , np.mean(system))\n",
    "print(\"mean number of worlds inhabited: \" , np.mean(total_worlds))\n",
    "print(\"percent of the time all worlds were inhabited: \" , np.mean(all_worlds))\n",
    "\n",
    "#abiogensis (5 billion) and fast panspermia (500 k)\n",
    "system = []\n",
    "total_worlds = []\n",
    "all_worlds = []\n",
    "\n",
    "N = 100\n",
    "idx = 0\n",
    "\n",
    "while idx < N:\n",
    "\n",
    "    values = panspermia_10planets(abio_age = 5000000000, pans_age = 500000)\n",
    "    system.append(values[0])\n",
    "    total_worlds.append(values[1])\n",
    "    all_worlds.append(values[2])\n",
    "    \n",
    "    if idx % 10 == 0:        \n",
    "        print(idx )\n",
    "    \n",
    "    idx +=1\n",
    "    \n",
    "print(\"percent of the simulations where the system was inhabited: \" , np.mean(system))\n",
    "print(\"mean number of worlds inhabited: \" , np.mean(total_worlds))\n",
    "print(\"percent of the time all worlds were inhabited: \" , np.mean(all_worlds))"
   ]
  },
  {
   "cell_type": "code",
   "execution_count": 357,
   "metadata": {},
   "outputs": [
    {
     "name": "stdout",
     "output_type": "stream",
     "text": [
      "0\n",
      "10\n",
      "20\n",
      "30\n",
      "40\n",
      "50\n",
      "60\n",
      "70\n",
      "80\n",
      "90\n",
      "percent of the simulations where the system was inhabited:  0.0\n",
      "mean number of worlds inhabited:  0.0\n",
      "percent of the time all worlds were inhabited:  0.0\n",
      "0\n",
      "10\n",
      "20\n",
      "30\n",
      "40\n",
      "50\n",
      "60\n",
      "70\n",
      "80\n",
      "90\n",
      "percent of the simulations where the system was inhabited:  0.0\n",
      "mean number of worlds inhabited:  0.0\n",
      "percent of the time all worlds were inhabited:  0.0\n",
      "0\n",
      "10\n",
      "20\n",
      "30\n",
      "40\n",
      "50\n",
      "60\n",
      "70\n",
      "80\n",
      "90\n",
      "percent of the simulations where the system was inhabited:  0.0\n",
      "mean number of worlds inhabited:  0.0\n",
      "percent of the time all worlds were inhabited:  0.0\n"
     ]
    }
   ],
   "source": [
    "# abiogensis (50 trillion) and panspermia (50 trillion)\n",
    "system = []\n",
    "total_worlds = []\n",
    "all_worlds = []\n",
    "\n",
    "N = 100\n",
    "idx = 0\n",
    "\n",
    "while idx < N:\n",
    "\n",
    "    values = panspermia_10planets(abio_age = 50000000000000, pans_age = 50000000000000)\n",
    "    system.append(values[0])\n",
    "    total_worlds.append(values[1])\n",
    "    all_worlds.append(values[2])\n",
    "    \n",
    "    if idx % 10 == 0:        \n",
    "        print(idx )\n",
    "    \n",
    "    idx +=1\n",
    "    \n",
    "print(\"percent of the simulations where the system was inhabited: \" , np.mean(system))\n",
    "print(\"mean number of worlds inhabited: \" , np.mean(total_worlds))\n",
    "print(\"percent of the time all worlds were inhabited: \" , np.mean(all_worlds))\n",
    "\n",
    "#abiogensis (50 trillion) and modest panspermia (5 bil)\n",
    "system = []\n",
    "total_worlds = []\n",
    "all_worlds = []\n",
    "\n",
    "N = 100\n",
    "idx = 0\n",
    "\n",
    "while idx < N:\n",
    "\n",
    "    values = panspermia_10planets(abio_age = 50000000000000, pans_age = 5000000000)\n",
    "    system.append(values[0])\n",
    "    total_worlds.append(values[1])\n",
    "    all_worlds.append(values[2])\n",
    "    \n",
    "    if idx % 10 == 0:        \n",
    "        print(idx )\n",
    "    \n",
    "    idx +=1\n",
    "    \n",
    "print(\"percent of the simulations where the system was inhabited: \" , np.mean(system))\n",
    "print(\"mean number of worlds inhabited: \" , np.mean(total_worlds))\n",
    "print(\"percent of the time all worlds were inhabited: \" , np.mean(all_worlds))\n",
    "\n",
    "#abiogensis (50 trillion) and fast panspermia (500 k)\n",
    "system = []\n",
    "total_worlds = []\n",
    "all_worlds = []\n",
    "\n",
    "N = 100\n",
    "idx = 0\n",
    "\n",
    "while idx < N:\n",
    "\n",
    "    values = panspermia_10planets(abio_age = 50000000000000, pans_age = 500000)\n",
    "    system.append(values[0])\n",
    "    total_worlds.append(values[1])\n",
    "    all_worlds.append(values[2])\n",
    "    \n",
    "    if idx % 10 == 0:        \n",
    "        print(idx )\n",
    "    \n",
    "    idx +=1\n",
    "    \n",
    "print(\"percent of the simulations where the system was inhabited: \" , np.mean(system))\n",
    "print(\"mean number of worlds inhabited: \" , np.mean(total_worlds))\n",
    "print(\"percent of the time all worlds were inhabited: \" , np.mean(all_worlds))"
   ]
  },
  {
   "cell_type": "code",
   "execution_count": 358,
   "metadata": {},
   "outputs": [
    {
     "name": "stdout",
     "output_type": "stream",
     "text": [
      "0\n",
      "10\n",
      "20\n",
      "30\n",
      "40\n",
      "50\n",
      "60\n",
      "70\n",
      "80\n",
      "90\n",
      "percent of the simulations where the system was inhabited:  1.0\n",
      "mean number of worlds inhabited:  10.0\n",
      "percent of the time all worlds were inhabited:  1.0\n",
      "0\n",
      "10\n",
      "20\n",
      "30\n",
      "40\n",
      "50\n",
      "60\n",
      "70\n",
      "80\n",
      "90\n",
      "percent of the simulations where the system was inhabited:  1.0\n",
      "mean number of worlds inhabited:  10.0\n",
      "percent of the time all worlds were inhabited:  1.0\n",
      "0\n",
      "10\n",
      "20\n",
      "30\n",
      "40\n",
      "50\n",
      "60\n",
      "70\n",
      "80\n",
      "90\n",
      "percent of the simulations where the system was inhabited:  1.0\n",
      "mean number of worlds inhabited:  10.0\n",
      "percent of the time all worlds were inhabited:  1.0\n"
     ]
    }
   ],
   "source": [
    "# abiogensis (50 million) and panspermia (50 trillion)\n",
    "system = []\n",
    "total_worlds = []\n",
    "all_worlds = []\n",
    "\n",
    "N = 100\n",
    "idx = 0\n",
    "\n",
    "while idx < N:\n",
    "\n",
    "    values = panspermia_10planets(abio_age = 50000000, pans_age = 50000000000000)\n",
    "    system.append(values[0])\n",
    "    total_worlds.append(values[1])\n",
    "    all_worlds.append(values[2])\n",
    "    \n",
    "    if idx % 10 == 0:        \n",
    "        print(idx )\n",
    "    \n",
    "    idx +=1\n",
    "    \n",
    "print(\"percent of the simulations where the system was inhabited: \" , np.mean(system))\n",
    "print(\"mean number of worlds inhabited: \" , np.mean(total_worlds))\n",
    "print(\"percent of the time all worlds were inhabited: \" , np.mean(all_worlds))\n",
    "\n",
    "#abiogensis (50 million) and modest panspermia (5 bil)\n",
    "system = []\n",
    "total_worlds = []\n",
    "all_worlds = []\n",
    "\n",
    "N = 100\n",
    "idx = 0\n",
    "\n",
    "while idx < N:\n",
    "\n",
    "    values = panspermia_10planets(abio_age = 50000000, pans_age = 5000000000)\n",
    "    system.append(values[0])\n",
    "    total_worlds.append(values[1])\n",
    "    all_worlds.append(values[2])\n",
    "    \n",
    "    if idx % 10 == 0:        \n",
    "        print(idx )\n",
    "    \n",
    "    idx +=1\n",
    "    \n",
    "print(\"percent of the simulations where the system was inhabited: \" , np.mean(system))\n",
    "print(\"mean number of worlds inhabited: \" , np.mean(total_worlds))\n",
    "print(\"percent of the time all worlds were inhabited: \" , np.mean(all_worlds))\n",
    "\n",
    "#abiogensis (50 million) and fast panspermia (500 k)\n",
    "system = []\n",
    "total_worlds = []\n",
    "all_worlds = []\n",
    "\n",
    "N = 100\n",
    "idx = 0\n",
    "\n",
    "while idx < N:\n",
    "\n",
    "    values = panspermia_10planets(abio_age = 50000000, pans_age = 500000)\n",
    "    system.append(values[0])\n",
    "    total_worlds.append(values[1])\n",
    "    all_worlds.append(values[2])\n",
    "    \n",
    "    if idx % 10 == 0:        \n",
    "        print(idx )\n",
    "    \n",
    "    idx +=1\n",
    "    \n",
    "print(\"percent of the simulations where the system was inhabited: \" , np.mean(system))\n",
    "print(\"mean number of worlds inhabited: \" , np.mean(total_worlds))\n",
    "print(\"percent of the time all worlds were inhabited: \" , np.mean(all_worlds))"
   ]
  },
  {
   "cell_type": "code",
   "execution_count": 359,
   "metadata": {},
   "outputs": [
    {
     "data": {
      "text/plain": [
       "1000000.0"
      ]
     },
     "execution_count": 359,
     "metadata": {},
     "output_type": "execute_result"
    }
   ],
   "source": [
    "(5000000000 / 500000) * 100"
   ]
  },
  {
   "cell_type": "code",
   "execution_count": null,
   "metadata": {},
   "outputs": [],
   "source": []
  }
 ],
 "metadata": {
  "kernelspec": {
   "display_name": "Python 3",
   "language": "python",
   "name": "python3"
  },
  "language_info": {
   "codemirror_mode": {
    "name": "ipython",
    "version": 3
   },
   "file_extension": ".py",
   "mimetype": "text/x-python",
   "name": "python",
   "nbconvert_exporter": "python",
   "pygments_lexer": "ipython3",
   "version": "3.7.6"
  }
 },
 "nbformat": 4,
 "nbformat_minor": 4
}
